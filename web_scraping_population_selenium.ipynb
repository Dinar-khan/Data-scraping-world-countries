{
 "cells": [
  {
   "cell_type": "markdown",
   "id": "c16d12a0",
   "metadata": {},
   "source": [
    "## imports"
   ]
  },
  {
   "cell_type": "code",
   "execution_count": 84,
   "id": "2e699482",
   "metadata": {},
   "outputs": [],
   "source": [
    "from selenium import webdriver\n",
    "import pandas as pd\n",
    "import sqlalchemy"
   ]
  },
  {
   "cell_type": "markdown",
   "id": "7370475d",
   "metadata": {},
   "source": [
    "## initialization"
   ]
  },
  {
   "cell_type": "code",
   "execution_count": 85,
   "id": "25b7f1cb",
   "metadata": {},
   "outputs": [
    {
     "name": "stderr",
     "output_type": "stream",
     "text": [
      "C:\\Users\\MTEXH\\AppData\\Local\\Temp/ipykernel_2492/2186904348.py:4: DeprecationWarning: executable_path has been deprecated, please pass in a Service object\n",
      "  driver = webdriver.Chrome(executable_path='C:/webdrivers/chromedriver.exe')\n"
     ]
    }
   ],
   "source": [
    "# store url\n",
    "url = 'https://worldpopulationreview.com/countries'\n",
    "#initialize chromedriver\n",
    "driver = webdriver.Chrome(executable_path='C:/webdrivers/chromedriver.exe')\n"
   ]
  },
  {
   "cell_type": "code",
   "execution_count": 86,
   "id": "5835b497",
   "metadata": {},
   "outputs": [],
   "source": [
    "# open url\n",
    "driver.get(url)\n",
    "driver.maximize_window()"
   ]
  },
  {
   "cell_type": "code",
   "execution_count": null,
   "id": "1c4ff3cc",
   "metadata": {},
   "outputs": [],
   "source": []
  },
  {
   "cell_type": "code",
   "execution_count": 87,
   "id": "bc569c29",
   "metadata": {},
   "outputs": [
    {
     "name": "stderr",
     "output_type": "stream",
     "text": [
      "C:\\Users\\MTEXH\\AppData\\Local\\Temp/ipykernel_2492/3121843366.py:2: DeprecationWarning: find_elements_by_xpath is deprecated. Please use find_elements(by=By.XPATH, value=xpath) instead\n",
      "  countries = driver.find_elements_by_xpath('//div[@class=\"datatable-container undefined\"]//tbody//tr//td[2]')\n",
      "C:\\Users\\MTEXH\\AppData\\Local\\Temp/ipykernel_2492/3121843366.py:4: DeprecationWarning: find_elements_by_xpath is deprecated. Please use find_elements(by=By.XPATH, value=xpath) instead\n",
      "  population_2022 =driver.find_elements_by_xpath('//div[@class=\"datatable-container undefined\"]//tbody//tr//td[3]')\n",
      "C:\\Users\\MTEXH\\AppData\\Local\\Temp/ipykernel_2492/3121843366.py:6: DeprecationWarning: find_elements_by_xpath is deprecated. Please use find_elements(by=By.XPATH, value=xpath) instead\n",
      "  population_2021 = driver.find_elements_by_xpath('//div[@class=\"datatable-container undefined\"]//tbody//tr//td[4]')\n",
      "C:\\Users\\MTEXH\\AppData\\Local\\Temp/ipykernel_2492/3121843366.py:8: DeprecationWarning: find_elements_by_xpath is deprecated. Please use find_elements(by=By.XPATH, value=xpath) instead\n",
      "  growth_rate =driver.find_elements_by_xpath('//div[@class=\"datatable-container undefined\"]//tbody//tr//td[5]')\n",
      "C:\\Users\\MTEXH\\AppData\\Local\\Temp/ipykernel_2492/3121843366.py:10: DeprecationWarning: find_elements_by_xpath is deprecated. Please use find_elements(by=By.XPATH, value=xpath) instead\n",
      "  area  =driver.find_elements_by_xpath('//div[@class=\"datatable-container undefined\"]//tbody//tr//td[6]')\n",
      "C:\\Users\\MTEXH\\AppData\\Local\\Temp/ipykernel_2492/3121843366.py:12: DeprecationWarning: find_elements_by_xpath is deprecated. Please use find_elements(by=By.XPATH, value=xpath) instead\n",
      "  density = driver.find_elements_by_xpath('//div[@class=\"datatable-container undefined\"]//tbody//tr//td[7]')\n"
     ]
    }
   ],
   "source": [
    "# countries\n",
    "countries = driver.find_elements_by_xpath('//div[@class=\"datatable-container undefined\"]//tbody//tr//td[2]')\n",
    "# population 2022\n",
    "population_2022 =driver.find_elements_by_xpath('//div[@class=\"datatable-container undefined\"]//tbody//tr//td[3]')\n",
    "# population 2021\n",
    "population_2021 = driver.find_elements_by_xpath('//div[@class=\"datatable-container undefined\"]//tbody//tr//td[4]')\n",
    "# growth rate\n",
    "growth_rate =driver.find_elements_by_xpath('//div[@class=\"datatable-container undefined\"]//tbody//tr//td[5]')\n",
    "# area\n",
    "area  =driver.find_elements_by_xpath('//div[@class=\"datatable-container undefined\"]//tbody//tr//td[6]')\n",
    "#density\n",
    "density = driver.find_elements_by_xpath('//div[@class=\"datatable-container undefined\"]//tbody//tr//td[7]')"
   ]
  },
  {
   "cell_type": "code",
   "execution_count": 72,
   "id": "51627763",
   "metadata": {},
   "outputs": [],
   "source": [
    "#for population in population_2022:\n",
    " #   print(population.text)"
   ]
  },
  {
   "cell_type": "code",
   "execution_count": 96,
   "id": "00012609",
   "metadata": {},
   "outputs": [
    {
     "data": {
      "text/plain": [
       "'147'"
      ]
     },
     "execution_count": 96,
     "metadata": {},
     "output_type": "execute_result"
    }
   ],
   "source": [
    "density[0].text.split('/')[0]"
   ]
  },
  {
   "cell_type": "markdown",
   "id": "fc1bb289",
   "metadata": {},
   "source": [
    "## data frame building\n"
   ]
  },
  {
   "cell_type": "code",
   "execution_count": 101,
   "id": "c8ce17db",
   "metadata": {},
   "outputs": [],
   "source": [
    "df_population=pd.DataFrame(columns=['Countries','Population_2022','Population_2021','Growth_rate','Area','Density_km2'])"
   ]
  },
  {
   "cell_type": "code",
   "execution_count": 102,
   "id": "7e6bc208",
   "metadata": {},
   "outputs": [
    {
     "data": {
      "text/html": [
       "<div>\n",
       "<style scoped>\n",
       "    .dataframe tbody tr th:only-of-type {\n",
       "        vertical-align: middle;\n",
       "    }\n",
       "\n",
       "    .dataframe tbody tr th {\n",
       "        vertical-align: top;\n",
       "    }\n",
       "\n",
       "    .dataframe thead th {\n",
       "        text-align: right;\n",
       "    }\n",
       "</style>\n",
       "<table border=\"1\" class=\"dataframe\">\n",
       "  <thead>\n",
       "    <tr style=\"text-align: right;\">\n",
       "      <th></th>\n",
       "      <th>Countries</th>\n",
       "      <th>Population_2022</th>\n",
       "      <th>Population_2021</th>\n",
       "      <th>Growth_rate</th>\n",
       "      <th>Area</th>\n",
       "      <th>Density_km2</th>\n",
       "    </tr>\n",
       "  </thead>\n",
       "  <tbody>\n",
       "  </tbody>\n",
       "</table>\n",
       "</div>"
      ],
      "text/plain": [
       "Empty DataFrame\n",
       "Columns: [Countries, Population_2022, Population_2021, Growth_rate, Area, Density_km2]\n",
       "Index: []"
      ]
     },
     "execution_count": 102,
     "metadata": {},
     "output_type": "execute_result"
    }
   ],
   "source": [
    "df_population"
   ]
  },
  {
   "cell_type": "code",
   "execution_count": 103,
   "id": "743dd31d",
   "metadata": {},
   "outputs": [],
   "source": [
    "for i in range(len(countries)):\n",
    "    df_population = df_population.append({'Countries':countries[i].text,'Population_2022':population_2022[i].text,\n",
    "                                          'Population_2021':population_2021[i].text,'Growth_rate':growth_rate[i].text,\n",
    "                                          'Area':area[i].text,'Density_km2':density[i].text.split('/')[0]},ignore_index=True)"
   ]
  },
  {
   "cell_type": "code",
   "execution_count": 104,
   "id": "31107979",
   "metadata": {},
   "outputs": [
    {
     "data": {
      "text/html": [
       "<div>\n",
       "<style scoped>\n",
       "    .dataframe tbody tr th:only-of-type {\n",
       "        vertical-align: middle;\n",
       "    }\n",
       "\n",
       "    .dataframe tbody tr th {\n",
       "        vertical-align: top;\n",
       "    }\n",
       "\n",
       "    .dataframe thead th {\n",
       "        text-align: right;\n",
       "    }\n",
       "</style>\n",
       "<table border=\"1\" class=\"dataframe\">\n",
       "  <thead>\n",
       "    <tr style=\"text-align: right;\">\n",
       "      <th></th>\n",
       "      <th>Countries</th>\n",
       "      <th>Population_2022</th>\n",
       "      <th>Population_2021</th>\n",
       "      <th>Growth_rate</th>\n",
       "      <th>Area</th>\n",
       "      <th>Density_km2</th>\n",
       "    </tr>\n",
       "  </thead>\n",
       "  <tbody>\n",
       "    <tr>\n",
       "      <th>0</th>\n",
       "      <td>China</td>\n",
       "      <td>1,425,887,337</td>\n",
       "      <td>1,425,893,465</td>\n",
       "      <td>-0.00%</td>\n",
       "      <td>9,706,961</td>\n",
       "      <td>147</td>\n",
       "    </tr>\n",
       "    <tr>\n",
       "      <th>1</th>\n",
       "      <td>India</td>\n",
       "      <td>1,417,173,173</td>\n",
       "      <td>1,407,563,842</td>\n",
       "      <td>0.68%</td>\n",
       "      <td>3,287,590</td>\n",
       "      <td>431</td>\n",
       "    </tr>\n",
       "    <tr>\n",
       "      <th>2</th>\n",
       "      <td>United States</td>\n",
       "      <td>338,289,857</td>\n",
       "      <td>336,997,624</td>\n",
       "      <td>0.38%</td>\n",
       "      <td>9,372,610</td>\n",
       "      <td>36</td>\n",
       "    </tr>\n",
       "    <tr>\n",
       "      <th>3</th>\n",
       "      <td>Indonesia</td>\n",
       "      <td>275,501,339</td>\n",
       "      <td>273,753,191</td>\n",
       "      <td>0.64%</td>\n",
       "      <td>1,904,569</td>\n",
       "      <td>145</td>\n",
       "    </tr>\n",
       "    <tr>\n",
       "      <th>4</th>\n",
       "      <td>Pakistan</td>\n",
       "      <td>235,824,862</td>\n",
       "      <td>231,402,117</td>\n",
       "      <td>1.91%</td>\n",
       "      <td>881,912</td>\n",
       "      <td>267</td>\n",
       "    </tr>\n",
       "    <tr>\n",
       "      <th>...</th>\n",
       "      <td>...</td>\n",
       "      <td>...</td>\n",
       "      <td>...</td>\n",
       "      <td>...</td>\n",
       "      <td>...</td>\n",
       "      <td>...</td>\n",
       "    </tr>\n",
       "    <tr>\n",
       "      <th>205</th>\n",
       "      <td>San Marino</td>\n",
       "      <td>33,660</td>\n",
       "      <td>33,745</td>\n",
       "      <td>-0.25%</td>\n",
       "      <td>61</td>\n",
       "      <td>552</td>\n",
       "    </tr>\n",
       "    <tr>\n",
       "      <th>206</th>\n",
       "      <td>Palau</td>\n",
       "      <td>18,055</td>\n",
       "      <td>18,024</td>\n",
       "      <td>0.17%</td>\n",
       "      <td>459</td>\n",
       "      <td>39</td>\n",
       "    </tr>\n",
       "    <tr>\n",
       "      <th>207</th>\n",
       "      <td>Nauru</td>\n",
       "      <td>12,668</td>\n",
       "      <td>12,511</td>\n",
       "      <td>1.25%</td>\n",
       "      <td>21</td>\n",
       "      <td>603</td>\n",
       "    </tr>\n",
       "    <tr>\n",
       "      <th>208</th>\n",
       "      <td>Tuvalu</td>\n",
       "      <td>11,312</td>\n",
       "      <td>11,204</td>\n",
       "      <td>0.96%</td>\n",
       "      <td>26</td>\n",
       "      <td>435</td>\n",
       "    </tr>\n",
       "    <tr>\n",
       "      <th>209</th>\n",
       "      <td>Vatican City</td>\n",
       "      <td>510</td>\n",
       "      <td>511</td>\n",
       "      <td>-0.20%</td>\n",
       "      <td>1</td>\n",
       "      <td>510</td>\n",
       "    </tr>\n",
       "  </tbody>\n",
       "</table>\n",
       "<p>210 rows × 6 columns</p>\n",
       "</div>"
      ],
      "text/plain": [
       "         Countries Population_2022 Population_2021 Growth_rate       Area  \\\n",
       "0            China   1,425,887,337   1,425,893,465      -0.00%  9,706,961   \n",
       "1            India   1,417,173,173   1,407,563,842       0.68%  3,287,590   \n",
       "2    United States     338,289,857     336,997,624       0.38%  9,372,610   \n",
       "3        Indonesia     275,501,339     273,753,191       0.64%  1,904,569   \n",
       "4         Pakistan     235,824,862     231,402,117       1.91%    881,912   \n",
       "..             ...             ...             ...         ...        ...   \n",
       "205     San Marino          33,660          33,745      -0.25%         61   \n",
       "206          Palau          18,055          18,024       0.17%        459   \n",
       "207          Nauru          12,668          12,511       1.25%         21   \n",
       "208         Tuvalu          11,312          11,204       0.96%         26   \n",
       "209   Vatican City             510             511      -0.20%          1   \n",
       "\n",
       "    Density_km2  \n",
       "0           147  \n",
       "1           431  \n",
       "2            36  \n",
       "3           145  \n",
       "4           267  \n",
       "..          ...  \n",
       "205         552  \n",
       "206          39  \n",
       "207         603  \n",
       "208         435  \n",
       "209         510  \n",
       "\n",
       "[210 rows x 6 columns]"
      ]
     },
     "execution_count": 104,
     "metadata": {},
     "output_type": "execute_result"
    }
   ],
   "source": [
    "df_population"
   ]
  },
  {
   "cell_type": "markdown",
   "id": "4e5ddeae",
   "metadata": {},
   "source": [
    "## export of the data"
   ]
  },
  {
   "cell_type": "code",
   "execution_count": 106,
   "id": "0a0e2a8e",
   "metadata": {},
   "outputs": [],
   "source": [
    "df_population.to_csv('world_population_data.csv',index=False)"
   ]
  },
  {
   "cell_type": "code",
   "execution_count": 111,
   "id": "c0b048b1",
   "metadata": {},
   "outputs": [],
   "source": [
    "# json\n",
    "df_population.to_json('population_json.json',force_ascii=False)"
   ]
  },
  {
   "cell_type": "code",
   "execution_count": null,
   "id": "e8d3e777",
   "metadata": {},
   "outputs": [],
   "source": []
  },
  {
   "cell_type": "code",
   "execution_count": null,
   "id": "af381254",
   "metadata": {},
   "outputs": [],
   "source": []
  },
  {
   "cell_type": "code",
   "execution_count": null,
   "id": "a4b506d5",
   "metadata": {},
   "outputs": [],
   "source": []
  }
 ],
 "metadata": {
  "kernelspec": {
   "display_name": "Python 3 (ipykernel)",
   "language": "python",
   "name": "python3"
  },
  "language_info": {
   "codemirror_mode": {
    "name": "ipython",
    "version": 3
   },
   "file_extension": ".py",
   "mimetype": "text/x-python",
   "name": "python",
   "nbconvert_exporter": "python",
   "pygments_lexer": "ipython3",
   "version": "3.9.7"
  }
 },
 "nbformat": 4,
 "nbformat_minor": 5
}
